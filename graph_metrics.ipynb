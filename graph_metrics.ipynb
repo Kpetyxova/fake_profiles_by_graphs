{
 "cells": [
  {
   "cell_type": "code",
   "execution_count": 18,
   "metadata": {},
   "outputs": [],
   "source": [
    "import graph_tool.all as gt\n",
    "from tqdm.notebook import tqdm\n",
    "import ast\n",
    "import pandas as pd\n",
    "import requests"
   ]
  },
  {
   "cell_type": "markdown",
   "metadata": {},
   "source": [
    "# графы связей реальных людей"
   ]
  },
  {
   "cell_type": "code",
   "execution_count": 129,
   "metadata": {},
   "outputs": [],
   "source": [
    "real_people = pd.read_csv('real_people.csv')"
   ]
  },
  {
   "cell_type": "code",
   "execution_count": 130,
   "metadata": {},
   "outputs": [],
   "source": [
    "real_people = real_people.drop(columns=['Unnamed: 0'])"
   ]
  },
  {
   "cell_type": "code",
   "execution_count": 131,
   "metadata": {},
   "outputs": [],
   "source": [
    "d = [tuple(x) for x in real_people.to_records(index=False)]\n",
    "\n",
    "list_normal = []\n",
    "for ids in tqdm(d):\n",
    "    list_normal.append(ids[0])\n",
    "    list_normal.append(ids[1])\n",
    "list_normal = list(set(list_normal))\n",
    "\n",
    "dick = {}\n",
    "for ids in tqdm(enumerate(list_normal)):\n",
    "    dick[ids[1]] = ids[0]\n",
    "    \n",
    "new_d = []\n",
    "for i1, i2 in tqdm(d):\n",
    "    new_d.append((dick[i1], dick[i2]))"
   ]
  },
  {
   "cell_type": "code",
   "execution_count": null,
   "metadata": {},
   "outputs": [],
   "source": [
    "seen_list = [7586]\n",
    "subscriptions_dict = {}\n",
    "subscriptions_count_dict = {}\n",
    "post_dict = {}\n",
    "post_count_dict = {}\n",
    "user_information = {}\n",
    "user_info = {}\n",
    "TOKEN = 'ef53df19fa9a09240d437cf80bccdae854dec9c40211165ec112d6b5928690ff409ac4eaf44be73a7c7cd'\n",
    "data = requests.get(\n",
    "    'https://api.vk.com/method/friends.get', \n",
    "    params={\n",
    "        \"user_id\": 7586,\n",
    "        \"v\":\"5.92\",\n",
    "        \"count\": 600,\n",
    "        \"access_token\": TOKEN\n",
    "    }\n",
    "    ).json()\n",
    "\n",
    "\n",
    "for user_id in tqdm(data['response']['items']):\n",
    "    seen_list.append(user_id)"
   ]
  },
  {
   "cell_type": "code",
   "execution_count": 141,
   "metadata": {},
   "outputs": [],
   "source": [
    "new_seen = [dick[s] for s in seen_list]"
   ]
  },
  {
   "cell_type": "code",
   "execution_count": 142,
   "metadata": {
    "scrolled": false
   },
   "outputs": [
    {
     "name": "stdout",
     "output_type": "stream",
     "text": [
      "CPU times: user 54.1 ms, sys: 103 ms, total: 157 ms\n",
      "Wall time: 232 ms\n"
     ]
    }
   ],
   "source": [
    "%%time\n",
    "g = gt.Graph(directed=False)\n",
    "g.add_edge_list(new_d)"
   ]
  },
  {
   "cell_type": "code",
   "execution_count": null,
   "metadata": {},
   "outputs": [],
   "source": [
    "def get_graph_feat(new_seen):\n",
    "    s_dists = []\n",
    "    for s in tqdm(new_seen):\n",
    "        dist = gt.shortest_distance(g, source=s)\n",
    "        s_dists.append(dist)\n",
    "    s_dists1 = [list(sd) for sd in tqdm(s_dists)]\n",
    "    max_dists = [max(x) for x in tqdm(s_dists1)]\n",
    "    mean_dists = [sum(x)/len(x) for x in tqdm(s_dists1)]\n",
    "    degrees = g.get_out_degrees(new_seen)\n",
    "    closenesses = []\n",
    "    for ns in tqdm(new_seen):\n",
    "        closenesses.append(gt.closeness(g, source=ns))\n",
    "    closenesses_real =[float(x) for x in tqdm(closenesses)]\n",
    "    return max_dists, mean_dists, degrees, closenesses_real"
   ]
  },
  {
   "cell_type": "code",
   "execution_count": null,
   "metadata": {
    "scrolled": true
   },
   "outputs": [],
   "source": [
    "max_dists, mean_dists, degrees, closenesses_real = get_graph_feat(new_seen)"
   ]
  },
  {
   "cell_type": "code",
   "execution_count": null,
   "metadata": {},
   "outputs": [],
   "source": [
    "graph_real = pd.DataFrame({'id': new_seen, 'max_dists':max_dists, 'mean_dists':mean_dists, 'degrees':degrees, 'closenesses_real':closenesses_real})"
   ]
  },
  {
   "cell_type": "code",
   "execution_count": null,
   "metadata": {},
   "outputs": [],
   "source": [
    "def get_key(value):\n",
    "    for k, v in dick.items():\n",
    "        if v == value:\n",
    "            return k"
   ]
  },
  {
   "cell_type": "code",
   "execution_count": null,
   "metadata": {
    "scrolled": true
   },
   "outputs": [],
   "source": [
    "graph_real['id_vk'] = graph_real.id.apply(get_key)"
   ]
  },
  {
   "cell_type": "code",
   "execution_count": null,
   "metadata": {},
   "outputs": [],
   "source": [
    "graph_real.to_csv('graph_metrics_real.csv')"
   ]
  },
  {
   "cell_type": "markdown",
   "metadata": {},
   "source": [
    "# графы связей б"
   ]
  },
  {
   "cell_type": "code",
   "execution_count": 120,
   "metadata": {},
   "outputs": [],
   "source": [
    "bots = pd.read_csv('graph_metrics_bot 2.csv')"
   ]
  },
  {
   "cell_type": "code",
   "execution_count": 121,
   "metadata": {},
   "outputs": [],
   "source": [
    "bots = bots.drop('Unnamed: 0', axis=1)"
   ]
  },
  {
   "cell_type": "code",
   "execution_count": 122,
   "metadata": {},
   "outputs": [
    {
     "data": {
      "application/vnd.jupyter.widget-view+json": {
       "model_id": "99722a85ceff41d2a1c94edf025728a1",
       "version_major": 2,
       "version_minor": 0
      },
      "text/plain": [
       "  0%|          | 0/9136846 [00:00<?, ?it/s]"
      ]
     },
     "metadata": {},
     "output_type": "display_data"
    },
    {
     "data": {
      "application/vnd.jupyter.widget-view+json": {
       "model_id": "dd31f0102684430a9938a7bf256cd2d3",
       "version_major": 2,
       "version_minor": 0
      },
      "text/plain": [
       "0it [00:00, ?it/s]"
      ]
     },
     "metadata": {},
     "output_type": "display_data"
    },
    {
     "data": {
      "application/vnd.jupyter.widget-view+json": {
       "model_id": "644a37a12c484dc9b5958293db689dc2",
       "version_major": 2,
       "version_minor": 0
      },
      "text/plain": [
       "  0%|          | 0/9136846 [00:00<?, ?it/s]"
      ]
     },
     "metadata": {},
     "output_type": "display_data"
    }
   ],
   "source": [
    "d = [(int(x[0]), int(x[1])) for x in bots.to_records(index=False)]\n",
    "\n",
    "list_bots = []\n",
    "for ids in tqdm(d):\n",
    "    list_bots.append(int(ids[0]))\n",
    "    list_bots.append(int(ids[1]))\n",
    "list_bots = list(set(list_bots))\n",
    "\n",
    "dick = {}\n",
    "for ids in tqdm(enumerate(list_bots)):\n",
    "    dick[ids[1]] = ids[0]\n",
    "\n",
    "new_d = []\n",
    "for i1, i2 in tqdm(d):\n",
    "    new_d.append((dick[i1], dick[i2]))"
   ]
  },
  {
   "cell_type": "code",
   "execution_count": 118,
   "metadata": {},
   "outputs": [
    {
     "data": {
      "application/vnd.jupyter.widget-view+json": {
       "model_id": "3bbd3f58258848f5a3ba6801ced0872b",
       "version_major": 2,
       "version_minor": 0
      },
      "text/plain": [
       "  0%|          | 0/807 [00:00<?, ?it/s]"
      ]
     },
     "metadata": {},
     "output_type": "display_data"
    }
   ],
   "source": [
    "seen_list = [656481023]\n",
    "subscriptions_dict = {}\n",
    "subscriptions_count_dict = {}\n",
    "post_dict = {}\n",
    "post_count_dict = {}\n",
    "user_information = {}\n",
    "user_info = {}\n",
    "TOKEN = 'ef53df19fa9a09240d437cf80bccdae854dec9c40211165ec112d6b5928690ff409ac4eaf44be73a7c7cd'\n",
    "data = requests.get('https://api.vk.com/method/users.getFollowers', \n",
    "    params={\n",
    "        \"user_id\": 656481023,\n",
    "        \"v\":\"5.92\",\n",
    "        \"count\": 807,\n",
    "        \"access_token\": TOKEN\n",
    "    }\n",
    "    ).json()\n",
    "\n",
    "\n",
    "for user_id in tqdm(data['response']['items']):\n",
    "    seen_list.append(user_id)"
   ]
  },
  {
   "cell_type": "code",
   "execution_count": 134,
   "metadata": {
    "scrolled": false
   },
   "outputs": [
    {
     "data": {
      "application/vnd.jupyter.widget-view+json": {
       "model_id": "",
       "version_major": 2,
       "version_minor": 0
      },
      "text/plain": [
       "  0%|          | 0/9402204 [00:00<?, ?it/s]"
      ]
     },
     "metadata": {},
     "output_type": "display_data"
    }
   ],
   "source": [
    "new_seen = []\n",
    "old_guys = 0\n",
    "new_guys = 0\n",
    "for s in tqdm(seen_list):\n",
    "    if s in list_bots:\n",
    "        old_guys += 1\n",
    "        new_seen.append(dick[s])\n",
    "    else:\n",
    "        new_guys += 1"
   ]
  },
  {
   "cell_type": "code",
   "execution_count": 125,
   "metadata": {
    "scrolled": true
   },
   "outputs": [
    {
     "name": "stdout",
     "output_type": "stream",
     "text": [
      "CPU times: user 5.17 s, sys: 464 ms, total: 5.64 s\n",
      "Wall time: 6.02 s\n"
     ]
    }
   ],
   "source": [
    "%%time\n",
    "g = gt.Graph(directed=False)\n",
    "g.add_edge_list(new_d)"
   ]
  },
  {
   "cell_type": "code",
   "execution_count": null,
   "metadata": {
    "scrolled": true
   },
   "outputs": [],
   "source": [
    "max_dists, mean_dists, degrees, closenesses_real = get_graph_feat(new_seen)"
   ]
  },
  {
   "cell_type": "code",
   "execution_count": null,
   "metadata": {},
   "outputs": [],
   "source": [
    "graph_bot = pd.DataFrame({'id': new_seen, 'max_dists':max_dists, 'mean_dists':mean_dists, 'degrees':degrees, 'closenesses_real':closenesses_real})\n",
    "graph_bot['id_vk'] = graph_bot.id.apply(get_key)\n",
    "graph_bot.to_csv('graph_metrics_bot.csv')"
   ]
  },
  {
   "cell_type": "code",
   "execution_count": null,
   "metadata": {},
   "outputs": [],
   "source": [
    "real_people = pd.read_csv('graph_metrics_real.csv')\n",
    "real_people['target'] = 1\n",
    "bots = pd.read_csv('graph_metrics_bot.csv')\n",
    "bots['target'] = 0"
   ]
  },
  {
   "cell_type": "code",
   "execution_count": null,
   "metadata": {},
   "outputs": [],
   "source": [
    "all_graph_metrics = pd.concat([real_people, bots], ignore_index=True)\n",
    "all_graph_metrics = all_graph_metrics.drop('Unnamed: 0', axis=1)\n",
    "all_graph_metrics.to_csv('graph_metrics_all.csv')"
   ]
  }
 ],
 "metadata": {
  "kernelspec": {
   "display_name": "Python 3",
   "language": "python",
   "name": "python3"
  },
  "language_info": {
   "codemirror_mode": {
    "name": "ipython",
    "version": 3
   },
   "file_extension": ".py",
   "mimetype": "text/x-python",
   "name": "python",
   "nbconvert_exporter": "python",
   "pygments_lexer": "ipython3",
   "version": "3.9.5"
  }
 },
 "nbformat": 4,
 "nbformat_minor": 2
}
