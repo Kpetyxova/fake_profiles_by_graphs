{
 "cells": [
  {
   "cell_type": "markdown",
   "metadata": {},
   "source": [
    "# Парсим подписчиков бота и друзей подписчиков с глубиной 3"
   ]
  },
  {
   "cell_type": "code",
   "execution_count": 1,
   "metadata": {},
   "outputs": [],
   "source": [
    "import requests\n",
    "import time\n",
    "from tqdm.notebook import tqdm\n",
    "from datetime import datetime\n",
    "import pandas as pd"
   ]
  },
  {
   "cell_type": "code",
   "execution_count": 4,
   "metadata": {},
   "outputs": [],
   "source": [
    "seen = pd.read_csv('jasha_lava_seen.csv')"
   ]
  },
  {
   "cell_type": "code",
   "execution_count": 5,
   "metadata": {},
   "outputs": [],
   "source": [
    "seel_l = list(seen.unique_id)"
   ]
  },
  {
   "cell_type": "code",
   "execution_count": 3,
   "metadata": {},
   "outputs": [],
   "source": [
    "def get_followers(yasha_lava, seen_list):\n",
    "    TOKEN = ''\n",
    "    start = datetime.now()\n",
    "    edges = []\n",
    "    data = requests.get(\n",
    "    'https://api.vk.com/method/users.getFollowers', \n",
    "    params={\n",
    "        \"user_id\": yasha_lava,\n",
    "        \"v\":\"5.92\",\n",
    "        \"offset\": 300,\n",
    "        \"count\": 300,\n",
    "        \"access_token\": TOKEN\n",
    "    }\n",
    "    ).json()\n",
    "    time.sleep(1)\n",
    "    for user_id in tqdm(data['response']['items']):\n",
    "        if user_id not in seen_list:\n",
    "            edges.append([yasha_lava, user_id])\n",
    "            data_2 = requests.get(\n",
    "            'https://api.vk.com/method/friends.get', \n",
    "            params={\n",
    "                \"user_id\": user_id,\n",
    "                \"v\":\"5.92\",\n",
    "                \"access_token\": TOKEN\n",
    "            }\n",
    "            ).json()\n",
    "            time.sleep(1)\n",
    "            seen_list.append(user_id)\n",
    "            if 'error' not in data_2.keys():\n",
    "                for user_id_2 in tqdm(data_2['response']['items']):\n",
    "                    edges.append([user_id, user_id_2])\n",
    "                    if user_id_2 not in seen_list:\n",
    "                        data_3 = requests.get(\n",
    "                        'https://api.vk.com/method/friends.get', \n",
    "                        params={\n",
    "                            \"user_id\": user_id_2,\n",
    "                            \"v\":\"5.92\",\n",
    "                            \"access_token\": TOKEN\n",
    "                        }\n",
    "                        ).json()\n",
    "                        time.sleep(2)\n",
    "                        seen_list.append(user_id_2)\n",
    "                        if 'error' not in data_3.keys():\n",
    "                            for user_id_3 in data_3['response']['items']:\n",
    "                                edges.append([user_id_2, user_id_3])\n",
    "                        \n",
    "    \n",
    "    end = datetime.now()\n",
    "    print('Затраченное время: ', (end - start))\n",
    "    return edges, seen_list"
   ]
  },
  {
   "cell_type": "code",
   "execution_count": 7,
   "metadata": {},
   "outputs": [
    {
     "data": {
      "application/vnd.jupyter.widget-view+json": {
       "model_id": "a40b798b268f49a08147a09eec5696be",
       "version_major": 2,
       "version_minor": 0
      },
      "text/plain": [
       "HBox(children=(FloatProgress(value=0.0, max=300.0), HTML(value='')))"
      ]
     },
     "metadata": {},
     "output_type": "display_data"
    },
    {
     "data": {
      "application/vnd.jupyter.widget-view+json": {
       "model_id": "a14f7f2191784e4ea50fbda995566ac8",
       "version_major": 2,
       "version_minor": 0
      },
      "text/plain": [
       "HBox(children=(FloatProgress(value=0.0, max=131.0), HTML(value='')))"
      ]
     },
     "metadata": {},
     "output_type": "display_data"
    },
    {
     "name": "stdout",
     "output_type": "stream",
     "text": [
      "\n"
     ]
    },
    {
     "data": {
      "application/vnd.jupyter.widget-view+json": {
       "model_id": "f579579a9fdf4c48836643090f343b91",
       "version_major": 2,
       "version_minor": 0
      },
      "text/plain": [
       "HBox(children=(FloatProgress(value=0.0, max=283.0), HTML(value='')))"
      ]
     },
     "metadata": {},
     "output_type": "display_data"
    },
    {
     "name": "stdout",
     "output_type": "stream",
     "text": [
      "\n"
     ]
    },
    {
     "data": {
      "application/vnd.jupyter.widget-view+json": {
       "model_id": "b7329c27b0334e31a148e76bbff4d08d",
       "version_major": 2,
       "version_minor": 0
      },
      "text/plain": [
       "HBox(children=(FloatProgress(value=0.0, max=23.0), HTML(value='')))"
      ]
     },
     "metadata": {},
     "output_type": "display_data"
    },
    {
     "name": "stdout",
     "output_type": "stream",
     "text": [
      "\n"
     ]
    },
    {
     "data": {
      "application/vnd.jupyter.widget-view+json": {
       "model_id": "85da5cbf0a08468c9e04d9fca4367320",
       "version_major": 2,
       "version_minor": 0
      },
      "text/plain": [
       "HBox(children=(FloatProgress(value=0.0, max=237.0), HTML(value='')))"
      ]
     },
     "metadata": {},
     "output_type": "display_data"
    },
    {
     "name": "stdout",
     "output_type": "stream",
     "text": [
      "\n",
      "\n",
      "Затраченное время:  0:22:12.113315\n"
     ]
    }
   ],
   "source": [
    "edges, seen_list = get_followers(656481023, seel_l)"
   ]
  },
  {
   "cell_type": "code",
   "execution_count": 12,
   "metadata": {},
   "outputs": [],
   "source": [
    "df_seen = pd.DataFrame()"
   ]
  },
  {
   "cell_type": "code",
   "execution_count": 13,
   "metadata": {},
   "outputs": [],
   "source": [
    "df_seen['unique_id'] = seen_list"
   ]
  },
  {
   "cell_type": "code",
   "execution_count": 14,
   "metadata": {},
   "outputs": [],
   "source": [
    "df_seen.to_csv('jasha_lava_seen_2.csv')"
   ]
  },
  {
   "cell_type": "code",
   "execution_count": 15,
   "metadata": {},
   "outputs": [],
   "source": [
    "df_edges = pd.DataFrame()"
   ]
  },
  {
   "cell_type": "code",
   "execution_count": 16,
   "metadata": {},
   "outputs": [],
   "source": [
    "df_edges['edge'] = edges"
   ]
  },
  {
   "cell_type": "code",
   "execution_count": 17,
   "metadata": {},
   "outputs": [],
   "source": [
    "df_edges.to_csv('jasha_lava_edges_2.csv')"
   ]
  },
  {
   "cell_type": "code",
   "execution_count": 2,
   "metadata": {},
   "outputs": [],
   "source": [
    "df1 = pd.read_csv('jasha_lava_edges.csv')"
   ]
  },
  {
   "cell_type": "code",
   "execution_count": 3,
   "metadata": {},
   "outputs": [],
   "source": [
    "df2 = pd.read_csv('jasha_lava_edges_2.csv')"
   ]
  },
  {
   "cell_type": "code",
   "execution_count": 4,
   "metadata": {},
   "outputs": [],
   "source": [
    "df_final = pd.concat([df1, df2], ignore_index=True)"
   ]
  },
  {
   "cell_type": "code",
   "execution_count": 6,
   "metadata": {},
   "outputs": [],
   "source": [
    "df_final = pd.read_csv('jasha_lava_concat.csv')"
   ]
  },
  {
   "cell_type": "code",
   "execution_count": 7,
   "metadata": {},
   "outputs": [],
   "source": [
    "import ast\n",
    "from tqdm.notebook import tqdm"
   ]
  },
  {
   "cell_type": "code",
   "execution_count": 8,
   "metadata": {},
   "outputs": [],
   "source": [
    "list_edges = list(df_final.edge)"
   ]
  },
  {
   "cell_type": "code",
   "execution_count": 9,
   "metadata": {
    "scrolled": true
   },
   "outputs": [
    {
     "data": {
      "application/vnd.jupyter.widget-view+json": {
       "model_id": "b6978ed0f92341508d9c447972db43b5",
       "version_major": 2,
       "version_minor": 0
      },
      "text/plain": [
       "HBox(children=(FloatProgress(value=0.0, max=9136846.0), HTML(value='')))"
      ]
     },
     "metadata": {},
     "output_type": "display_data"
    },
    {
     "name": "stdout",
     "output_type": "stream",
     "text": [
      "\n"
     ]
    }
   ],
   "source": [
    "list_edges_2 = []\n",
    "for e in tqdm(list_edges):\n",
    "    x = ast.literal_eval(e)\n",
    "    list_edges_2.append(x)"
   ]
  },
  {
   "cell_type": "code",
   "execution_count": 9,
   "metadata": {},
   "outputs": [],
   "source": [
    "df_final.to_csv('jasha_lava_concat.csv')"
   ]
  },
  {
   "cell_type": "code",
   "execution_count": 11,
   "metadata": {},
   "outputs": [
    {
     "data": {
      "text/plain": [
       "[[656481023, 380248552],\n",
       " [380248552, 327129],\n",
       " [327129, 1687],\n",
       " [327129, 6168],\n",
       " [327129, 13385],\n",
       " [327129, 13388],\n",
       " [327129, 16217],\n",
       " [327129, 16955],\n",
       " [327129, 18239],\n",
       " [327129, 20580]]"
      ]
     },
     "execution_count": 11,
     "metadata": {},
     "output_type": "execute_result"
    }
   ],
   "source": [
    "list_edges_2[:10]"
   ]
  },
  {
   "cell_type": "code",
   "execution_count": 12,
   "metadata": {},
   "outputs": [
    {
     "name": "stdout",
     "output_type": "stream",
     "text": [
      "Requirement already satisfied: graphviz in ./opt/anaconda3/lib/python3.8/site-packages (0.16)\n",
      "Note: you may need to restart the kernel to use updated packages.\n"
     ]
    }
   ],
   "source": [
    "pip install graphviz"
   ]
  },
  {
   "cell_type": "code",
   "execution_count": 13,
   "metadata": {},
   "outputs": [
    {
     "name": "stdout",
     "output_type": "stream",
     "text": [
      "Requirement already satisfied: pygraph in ./opt/anaconda3/lib/python3.8/site-packages (0.2.1)\n",
      "Note: you may need to restart the kernel to use updated packages.\n"
     ]
    }
   ],
   "source": [
    "pip install pygraph"
   ]
  },
  {
   "cell_type": "code",
   "execution_count": 3,
   "metadata": {},
   "outputs": [],
   "source": [
    "import itertools\n",
    "from graphviz import Digraph"
   ]
  },
  {
   "cell_type": "code",
   "execution_count": 4,
   "metadata": {},
   "outputs": [],
   "source": [
    "seen = pd.read_csv('jasha_lava_seen.csv')"
   ]
  },
  {
   "cell_type": "code",
   "execution_count": 5,
   "metadata": {},
   "outputs": [],
   "source": [
    "unique_ids = list(seen.unique_id)"
   ]
  },
  {
   "cell_type": "code",
   "execution_count": 22,
   "metadata": {},
   "outputs": [],
   "source": [
    "def graph(nodes_for_graph, edges):\n",
    "    dot = Digraph()\n",
    "    for n in nodes_for_graph:\n",
    "        dot.node(str(n))\n",
    "    \n",
    "    for ed in edges:\n",
    "        dot.edge(str(ed[0]), str(ed[1]))\n",
    "        \n",
    "    dot.render('yasha_graph.gv.dot')\n",
    "    return dot"
   ]
  },
  {
   "cell_type": "code",
   "execution_count": null,
   "metadata": {},
   "outputs": [],
   "source": [
    "graph(unique_ids, list_edges_2)"
   ]
  },
  {
   "cell_type": "code",
   "execution_count": 10,
   "metadata": {},
   "outputs": [
    {
     "name": "stdout",
     "output_type": "stream",
     "text": [
      "Requirement already satisfied: networkx in ./opt/anaconda3/lib/python3.8/site-packages (2.4)\n",
      "Requirement already satisfied: decorator>=4.3.0 in ./opt/anaconda3/lib/python3.8/site-packages (from networkx) (4.4.2)\n",
      "Note: you may need to restart the kernel to use updated packages.\n"
     ]
    }
   ],
   "source": [
    "pip install networkx"
   ]
  },
  {
   "cell_type": "code",
   "execution_count": 11,
   "metadata": {},
   "outputs": [
    {
     "data": {
      "image/png": "[encoded data removed]",
      "text/plain": [
       "<Figure size 432x288 with 1 Axes>"
      ]
     },
     "metadata": {},
     "output_type": "display_data"
    }
   ],
   "source": [
    "import networkx\n",
    "\n",
    "graph = {\n",
    "    '1': ['2', '3', '4'],\n",
    "    '2': ['5','11','12','13','14','15'],\n",
    "    '3': ['6','7','66','77'],\n",
    "    '5': ['6', '8','66','77'],\n",
    "    '4': ['7','66','77'],\n",
    "    '7': ['9', '10']\n",
    "}\n",
    "\n",
    "g = networkx.Graph()\n",
    "\n",
    "for k, vs in graph.items():\n",
    "    server_id = 'server_%s' % k\n",
    "\n",
    "    for v in vs:\n",
    "        g.add_edge(server_id,v)\n",
    "\n",
    "networkx.draw_spring(g)"
   ]
  },
  {
   "cell_type": "code",
   "execution_count": 12,
   "metadata": {},
   "outputs": [
    {
     "data": {
      "application/vnd.jupyter.widget-view+json": {
       "model_id": "ec3eaf8fac5442df92372e1f1806f585",
       "version_major": 2,
       "version_minor": 0
      },
      "text/plain": [
       "HBox(children=(FloatProgress(value=0.0, max=10000.0), HTML(value='')))"
      ]
     },
     "metadata": {},
     "output_type": "display_data"
    },
    {
     "name": "stdout",
     "output_type": "stream",
     "text": [
      "\n"
     ]
    }
   ],
   "source": [
    "from collections import defaultdict\n",
    "\n",
    "d=defaultdict(list)\n",
    "for row in tqdm(list_edges_2[:10000]):\n",
    "    d[row[0]].append(row[1])\n",
    "    d[row[1]].append(row[0])"
   ]
  },
  {
   "cell_type": "code",
   "execution_count": 13,
   "metadata": {},
   "outputs": [
    {
     "data": {
      "application/vnd.jupyter.widget-view+json": {
       "model_id": "a3d121bcd2af41b38f8bba84d8e1f568",
       "version_major": 2,
       "version_minor": 0
      },
      "text/plain": [
       "HBox(children=(FloatProgress(value=0.0, max=9324.0), HTML(value='')))"
      ]
     },
     "metadata": {},
     "output_type": "display_data"
    },
    {
     "name": "stdout",
     "output_type": "stream",
     "text": [
      "\n"
     ]
    },
    {
     "data": {
      "image/png": "[encoded data removed]",
      "text/plain": [
       "<Figure size 432x288 with 1 Axes>"
      ]
     },
     "metadata": {},
     "output_type": "display_data"
    }
   ],
   "source": [
    "import networkx\n",
    "\n",
    "g = networkx.Graph()\n",
    "\n",
    "for k, vs in tqdm(d.items()):\n",
    "    server_id = 'server_%s' % k\n",
    "\n",
    "    for v in vs:\n",
    "        g.add_edge(server_id,v)\n",
    "\n",
    "networkx.draw_spring(g)"
   ]
  },
  {
   "cell_type": "code",
   "execution_count": null,
   "metadata": {},
   "outputs": [
    {
     "data": {
      "application/vnd.jupyter.widget-view+json": {
       "model_id": "803f73c663224767a61acaa641bbc2cd",
       "version_major": 2,
       "version_minor": 0
      },
      "text/plain": [
       "HBox(children=(FloatProgress(value=0.0, max=9324.0), HTML(value='')))"
      ]
     },
     "metadata": {},
     "output_type": "display_data"
    },
    {
     "name": "stdout",
     "output_type": "stream",
     "text": [
      "\n"
     ]
    }
   ],
   "source": [
    "import networkx\n",
    "import matplotlib.pyplot as plt\n",
    "\n",
    "\n",
    "g = networkx.Graph()\n",
    "\n",
    "for k, vs in tqdm(d.items()):\n",
    "    server_id = 'server_%s' % k\n",
    "\n",
    "    for v in vs:\n",
    "        g.add_edge(server_id,v)\n",
    "\n",
    "networkx.draw_spring(g, with_labels=True)\n",
    "plt.savefig('graph_yasha_10k.png', dpi=300, bbox_inches='tight')"
   ]
  },
  {
   "cell_type": "code",
   "execution_count": null,
   "metadata": {},
   "outputs": [],
   "source": []
  }
 ],
 "metadata": {
  "kernelspec": {
   "display_name": "Python 3",
   "language": "python",
   "name": "python3"
  },
  "language_info": {
   "codemirror_mode": {
    "name": "ipython",
    "version": 3
   },
   "file_extension": ".py",
   "mimetype": "text/x-python",
   "name": "python",
   "nbconvert_exporter": "python",
   "pygments_lexer": "ipython3",
   "version": "3.8.3"
  }
 },
 "nbformat": 4,
 "nbformat_minor": 4
}
