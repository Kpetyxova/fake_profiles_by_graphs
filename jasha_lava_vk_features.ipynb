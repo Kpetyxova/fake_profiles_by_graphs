{
 "cells": [
  {
   "cell_type": "markdown",
   "metadata": {},
   "source": [
    "# Достаем признаки пользователя"
   ]
  },
  {
   "cell_type": "code",
   "execution_count": 1,
   "metadata": {},
   "outputs": [],
   "source": [
    "import requests\n",
    "import time\n",
    "from tqdm.notebook import tqdm\n",
    "from datetime import datetime\n",
    "import pandas as pd"
   ]
  },
  {
   "cell_type": "code",
   "execution_count": 5,
   "metadata": {},
   "outputs": [],
   "source": [
    "s = pd.read_csv('jasha_lava_edges_2.csv')"
   ]
  },
  {
   "cell_type": "code",
   "execution_count": 151,
   "metadata": {},
   "outputs": [],
   "source": [
    "data_2 = requests.get(\n",
    "        'https://api.vk.com/method/users.getSubscriptions', \n",
    "        params={\n",
    "            \"user_id\": 656481023,\n",
    "            \"v\":\"5.92\",\n",
    "            \"access_token\": TOKEN\n",
    "        }\n",
    "        ).json()"
   ]
  },
  {
   "cell_type": "code",
   "execution_count": 129,
   "metadata": {},
   "outputs": [
    {
     "data": {
      "application/vnd.jupyter.widget-view+json": {
       "model_id": "7ed1bf478b7b416281a879c00bc26779",
       "version_major": 2,
       "version_minor": 0
      },
      "text/plain": [
       "HBox(children=(FloatProgress(value=0.0, max=200.0), HTML(value='')))"
      ]
     },
     "metadata": {},
     "output_type": "display_data"
    },
    {
     "name": "stdout",
     "output_type": "stream",
     "text": [
      "\n"
     ]
    },
    {
     "data": {
      "application/vnd.jupyter.widget-view+json": {
       "model_id": "25d3b40acefa4f2fb2c5fa3f28ea9095",
       "version_major": 2,
       "version_minor": 0
      },
      "text/plain": [
       "HBox(children=(FloatProgress(value=0.0, max=201.0), HTML(value='')))"
      ]
     },
     "metadata": {},
     "output_type": "display_data"
    },
    {
     "name": "stdout",
     "output_type": "stream",
     "text": [
      "\n"
     ]
    }
   ],
   "source": [
    "\n",
    "seen_list = [656481023]\n",
    "subscriptions_dict = {}\n",
    "subscriptions_count_dict = {}\n",
    "post_dict = {}\n",
    "post_count_dict = {}\n",
    "user_information = {}\n",
    "user_info = {}\n",
    "TOKEN = ''\n",
    "start = datetime.now()\n",
    "data = requests.get(\n",
    "    'https://api.vk.com/method/users.getFollowers', \n",
    "    params={\n",
    "        \"user_id\": 656481023,\n",
    "        \"v\":\"5.92\",\n",
    "        \"extended\": 0,\n",
    "        \"count\": 200,\n",
    "        \"offset\": 600,\n",
    "        \"access_token\": TOKEN\n",
    "    }\n",
    "    ).json()\n",
    "\n",
    "time.sleep(1)\n",
    "for user_id in tqdm(data['response']['items']):\n",
    "    seen_list.append(user_id)\n",
    "\n",
    "for user in tqdm(seen_list):\n",
    "    data_2 = requests.get(\n",
    "        'https://api.vk.com/method/users.getSubscriptions', \n",
    "        params={\n",
    "            \"user_id\": user,\n",
    "            \"v\":\"5.92\",\n",
    "            \"access_token\": TOKEN\n",
    "        }\n",
    "        ).json()\n",
    "    if 'error' not in data_2.keys():\n",
    "        subscriptions_dict[user] = data_2['response']['groups']['items']\n",
    "        subscriptions_count_dict[user] = data_2['response']['groups']['count']\n",
    "\n",
    "    time.sleep(1)\n",
    "    data_3 = requests.get(\n",
    "    'https://api.vk.com/method/wall.get', \n",
    "    params={\n",
    "        \"owner_id\": user,\n",
    "        \"v\":\"5.92\",\n",
    "        \"access_token\": TOKEN\n",
    "    }\n",
    "    ).json()\n",
    "    if 'error' not in data_3.keys():\n",
    "        post_dict[user] = data_3['response']['items']\n",
    "        post_count_dict[user] = data_3['response']['count']\n",
    "\n",
    "    time.sleep(1)\n",
    "\n"
   ]
  },
  {
   "cell_type": "code",
   "execution_count": 133,
   "metadata": {},
   "outputs": [
    {
     "data": {
      "application/vnd.jupyter.widget-view+json": {
       "model_id": "58363d5a85474be5a2b8b7a80139e24c",
       "version_major": 2,
       "version_minor": 0
      },
      "text/plain": [
       "HBox(children=(FloatProgress(value=0.0, max=201.0), HTML(value='')))"
      ]
     },
     "metadata": {},
     "output_type": "display_data"
    },
    {
     "name": "stdout",
     "output_type": "stream",
     "text": [
      "\n",
      "Затраченное время:  0:56:07.527582\n"
     ]
    }
   ],
   "source": [
    "user_information = {}\n",
    "fields_list = [\"city\", \"country\",\"has_photo\", \"has_mobile\", \"followers_count\"]\n",
    "for user in tqdm(seen_list):\n",
    "    fields = []\n",
    "    for field in fields_list:\n",
    "        data_4 = requests.get(\n",
    "            'https://api.vk.com/method/users.get', \n",
    "            params={\n",
    "                \"user_ids\": user,\n",
    "                \"v\":\"5.92\",\n",
    "                \"fields\": field, \n",
    "                \"access_token\": TOKEN\n",
    "            }\n",
    "            ).json()\n",
    "#         print(data_4)\n",
    "        if ('error' not in data_4.keys()) and (field in data_4['response'][0].keys()):\n",
    "            fields.append(data_4['response'][0][field])\n",
    "        else:\n",
    "            fields.append(None)\n",
    "\n",
    "        time.sleep(1)\n",
    "    if 'error' not in data_4.keys():\n",
    "        user_information[user] = fields\n",
    "\n",
    "    time.sleep(1)\n",
    "\n",
    "\n",
    "\n",
    "end = datetime.now()\n",
    "print('Затраченное время: ', (end - start))\n",
    "    "
   ]
  },
  {
   "cell_type": "code",
   "execution_count": 134,
   "metadata": {},
   "outputs": [],
   "source": [
    "pd_lava = pd.DataFrame()"
   ]
  },
  {
   "cell_type": "code",
   "execution_count": 135,
   "metadata": {},
   "outputs": [],
   "source": [
    "seen_list = seen_list[1:]\n",
    "pd_lava = pd.DataFrame()\n",
    "pd_lava['user_id'] = seen_list"
   ]
  },
  {
   "cell_type": "code",
   "execution_count": 136,
   "metadata": {},
   "outputs": [],
   "source": [
    "l1 = []\n",
    "for user in seen_list:\n",
    "    if user in subscriptions_dict.keys():\n",
    "        l1.append(subscriptions_dict[user])\n",
    "    else:\n",
    "        l1.append(None)\n",
    "pd_lava['subscriptions'] = l1"
   ]
  },
  {
   "cell_type": "code",
   "execution_count": 137,
   "metadata": {},
   "outputs": [],
   "source": [
    "l2 = []\n",
    "for user in seen_list:\n",
    "    if user in subscriptions_count_dict.keys():\n",
    "        l2.append(subscriptions_count_dict[user])\n",
    "    else:\n",
    "        l2.append(None)\n",
    "        \n",
    "pd_lava['subscriptions_count'] = l2"
   ]
  },
  {
   "cell_type": "code",
   "execution_count": 138,
   "metadata": {},
   "outputs": [],
   "source": [
    "l3 = []\n",
    "for user in seen_list:\n",
    "    if user in post_dict.keys():\n",
    "        l3.append(post_dict[user])\n",
    "    else:\n",
    "        l3.append(None)\n",
    "        \n",
    "pd_lava['posts'] = l3"
   ]
  },
  {
   "cell_type": "code",
   "execution_count": 139,
   "metadata": {},
   "outputs": [],
   "source": [
    "l4 = []\n",
    "for user in seen_list:\n",
    "    if user in post_count_dict.keys():\n",
    "        l4.append(post_count_dict[user])\n",
    "    else:\n",
    "        l4.append(None)\n",
    "        \n",
    "pd_lava['posts_count'] = l4"
   ]
  },
  {
   "cell_type": "code",
   "execution_count": 140,
   "metadata": {},
   "outputs": [],
   "source": [
    "l5 = []\n",
    "l6 = []\n",
    "l7 = []\n",
    "l8 = []\n",
    "l9 = []\n",
    "for user in seen_list:\n",
    "    if user in user_information.keys():\n",
    "        if user_information[user][0] == None:\n",
    "            l5.append(None)\n",
    "        else:\n",
    "            l5.append(user_information[user][0]['title'])\n",
    "\n",
    "        if user_information[user][1] == None:\n",
    "            l6.append(None)\n",
    "        else:\n",
    "            l6.append(user_information[user][1]['title'])\n",
    "        \n",
    "        l7.append(user_information[user][2])\n",
    "        l8.append(user_information[user][3])\n",
    "        l9.append(user_information[user][4])\n",
    "                \n",
    "              \n",
    "        \n",
    "pd_lava['city'] = l5\n",
    "pd_lava['country'] = l6\n",
    "pd_lava['has_photo'] = l7\n",
    "pd_lava['has_mobile'] = l8\n",
    "pd_lava['city'] = l9"
   ]
  },
  {
   "cell_type": "code",
   "execution_count": null,
   "metadata": {},
   "outputs": [],
   "source": [
    "pd_lava_new.to_csv('pd_lava_200.csv')"
   ]
  },
  {
   "cell_type": "code",
   "execution_count": 156,
   "metadata": {},
   "outputs": [],
   "source": [
    "seen_list = list(pd_lava2.user_id)"
   ]
  },
  {
   "cell_type": "code",
   "execution_count": 157,
   "metadata": {},
   "outputs": [
    {
     "data": {
      "application/vnd.jupyter.widget-view+json": {
       "model_id": "986bee7a6d104527ab04bd7d29204a50",
       "version_major": 2,
       "version_minor": 0
      },
      "text/plain": [
       "HBox(children=(FloatProgress(value=0.0, max=394.0), HTML(value='')))"
      ]
     },
     "metadata": {},
     "output_type": "display_data"
    },
    {
     "name": "stdout",
     "output_type": "stream",
     "text": [
      "\n"
     ]
    }
   ],
   "source": [
    "user_information = {}\n",
    "fields_list = [\"has_photo\", \"has_mobile\", \"followers_count\"]\n",
    "for user in tqdm(seen_list):\n",
    "    fields = []\n",
    "    for field in fields_list:\n",
    "        data_4 = requests.get(\n",
    "            'https://api.vk.com/method/users.get', \n",
    "            params={\n",
    "                \"user_ids\": user,\n",
    "                \"v\":\"5.92\",\n",
    "                \"fields\": field, \n",
    "                \"access_token\": TOKEN\n",
    "            }\n",
    "            ).json()\n",
    "#         print(data_4)\n",
    "        if ('error' not in data_4.keys()):\n",
    "            fields.append(data_4['response'][0][field])\n",
    "        else:\n",
    "            fields.append(None)\n",
    "\n",
    "        time.sleep(1)\n",
    "    if 'error' not in data_4.keys():\n",
    "        user_information[user] = fields"
   ]
  },
  {
   "cell_type": "code",
   "execution_count": 158,
   "metadata": {},
   "outputs": [],
   "source": [
    "l7 = []\n",
    "l8 = []\n",
    "l9 = []\n",
    "for user in seen_list:\n",
    "    if user in user_information.keys():\n",
    "        l7.append(user_information[user][0])\n",
    "        l8.append(user_information[user][1])\n",
    "        l9.append(user_information[user][2])\n",
    "                \n",
    "              \n",
    "        \n",
    "\n",
    "pd_lava2['has_photo'] = l7\n",
    "pd_lava2['has_mobile'] = l8\n",
    "pd_lava2['city'] = l9"
   ]
  },
  {
   "cell_type": "code",
   "execution_count": 160,
   "metadata": {},
   "outputs": [],
   "source": [
    "pd_lava2.to_csv('pd_lava_600_new.csv')"
   ]
  },
  {
   "cell_type": "code",
   "execution_count": 83,
   "metadata": {},
   "outputs": [],
   "source": [
    "pd_lava['user_id'] = seen_list"
   ]
  },
  {
   "cell_type": "code",
   "execution_count": 110,
   "metadata": {},
   "outputs": [],
   "source": [
    "city = []\n",
    "country = []\n",
    "for user in seen_list:\n",
    "    if user in user_information.keys():\n",
    "        if user_information[user][0] == None:\n",
    "            city.append(None)\n",
    "        else:\n",
    "            city.append(user_information[user][0]['title'])\n",
    "        if user_information[user][1] == None:\n",
    "            country.append(None)\n",
    "        else:\n",
    "            country.append(user_information[user][1]['title'])\n",
    "        \n"
   ]
  },
  {
   "cell_type": "code",
   "execution_count": 112,
   "metadata": {},
   "outputs": [],
   "source": [
    "pd_lava['city'] = city\n",
    "pd_lava['country'] = country"
   ]
  },
  {
   "cell_type": "code",
   "execution_count": 113,
   "metadata": {},
   "outputs": [],
   "source": [
    "pd_lava['taget'] = [1 for i in range(len(seen_list))]"
   ]
  },
  {
   "cell_type": "code",
   "execution_count": 123,
   "metadata": {},
   "outputs": [],
   "source": [
    "pd_lava2 = pd_lava.copy()"
   ]
  },
  {
   "cell_type": "code",
   "execution_count": 125,
   "metadata": {},
   "outputs": [],
   "source": [
    "for ind, row in pd_lava2.iterrows():\n",
    "    if row['subscriptions_count'] == None:\n",
    "        pd_lava2 = pd_lava2.drop(pd_lava2.index[ind], inplace=True)"
   ]
  },
  {
   "cell_type": "code",
   "execution_count": 127,
   "metadata": {},
   "outputs": [],
   "source": [
    "pd_lava2.to_csv('pd_lava_1.csv')"
   ]
  },
  {
   "cell_type": "code",
   "execution_count": null,
   "metadata": {},
   "outputs": [],
   "source": [
    "pd_lava.to_csv('lava_info.csv')"
   ]
  },
  {
   "cell_type": "code",
   "execution_count": null,
   "metadata": {},
   "outputs": [],
   "source": [
    "seen_list = [7586]\n",
    "subscriptions_dict = {}\n",
    "subscriptions_count_dict = {}\n",
    "post_dict = {}\n",
    "post_count_dict = {}\n",
    "user_information = {}\n",
    "user_info = {}\n",
    "TOKEN = ''\n",
    "start = datetime.now()\n",
    "data = requests.get(\n",
    "    'https://api.vk.com/method/friends.get', \n",
    "    params={\n",
    "        \"user_id\": 7586,\n",
    "        \"v\":\"5.92\",\n",
    "        \"count\": 600,\n",
    "        \"access_token\": TOKEN\n",
    "    }\n",
    "    ).json()\n",
    "\n",
    "\n",
    "for user_id in tqdm(data['response']['items']):\n",
    "    seen_list.append(user_id)\n",
    "\n",
    "for user in tqdm(seen_list):\n",
    "    data_2 = requests.get(\n",
    "        'https://api.vk.com/method/users.getSubscriptions', \n",
    "        params={\n",
    "            \"user_id\": user,\n",
    "            \"v\":\"5.92\",\n",
    "            \"access_token\": TOKEN\n",
    "        }\n",
    "        ).json()\n",
    "    if 'error' not in data_2.keys():\n",
    "        subscriptions_dict[user] = data_2['response']['groups']['items']\n",
    "        subscriptions_count_dict[user] = data_2['response']['groups']['count']\n",
    "\n",
    "    time.sleep(1)\n",
    "    data_3 = requests.get(\n",
    "    'https://api.vk.com/method/wall.get', \n",
    "    params={\n",
    "        \"owner_id\": user,\n",
    "        \"v\":\"5.92\",\n",
    "        \"access_token\": TOKEN\n",
    "    }\n",
    "    ).json()\n",
    "    if 'error' not in data_3.keys():\n",
    "        post_dict[user] = data_3['response']['items']\n",
    "        post_count_dict[user] = data_3['response']['count']\n",
    "\n",
    "    time.sleep(1)\n",
    "\n"
   ]
  },
  {
   "cell_type": "code",
   "execution_count": null,
   "metadata": {},
   "outputs": [],
   "source": [
    "user_information = {}\n",
    "fields_list = [\"city\", \"country\",\"has_photo\", \"has_mobile\", \"followers_count\"]\n",
    "for user in tqdm(seen_list):\n",
    "    fields = []\n",
    "    for field in fields_list:\n",
    "        data_4 = requests.get(\n",
    "            'https://api.vk.com/method/users.get', \n",
    "            params={\n",
    "                \"user_ids\": user,\n",
    "                \"v\":\"5.92\",\n",
    "                \"fields\": field, \n",
    "                \"access_token\": TOKEN\n",
    "            }\n",
    "            ).json()\n",
    "#         print(data_4)\n",
    "        if ('error' not in data_4.keys()) and (field in data_4['response'][0].keys()):\n",
    "            fields.append(data_4['response'][0][field])\n",
    "        else:\n",
    "            fields.append(None)\n",
    "\n",
    "        time.sleep(1)\n",
    "    if 'error' not in data_4.keys():\n",
    "        user_information[user] = fields\n",
    "\n",
    "    time.sleep(1)\n",
    "\n",
    "\n",
    "\n",
    "end = datetime.now()\n",
    "print('Затраченное время: ', (end - start))"
   ]
  },
  {
   "cell_type": "code",
   "execution_count": null,
   "metadata": {},
   "outputs": [],
   "source": [
    "pd_vlakhov = pd.DataFrame()\n",
    "pd_vlakhov['user_id'] = seen_list"
   ]
  },
  {
   "cell_type": "code",
   "execution_count": null,
   "metadata": {},
   "outputs": [],
   "source": [
    "seen_list = seen_list[1:]\n",
    "pd_vlakhov = pd.DataFrame()\n",
    "pd_vlakhov['user_id'] = seen_list"
   ]
  },
  {
   "cell_type": "code",
   "execution_count": null,
   "metadata": {},
   "outputs": [],
   "source": [
    "l1 = []\n",
    "for user in seen_list:\n",
    "    if user in subscriptions_dict.keys():\n",
    "        l1.append(subscriptions_dict[user])\n",
    "    else:\n",
    "        l1.append(None)\n",
    "pd_vlakhov['subscriptions'] = l1"
   ]
  },
  {
   "cell_type": "code",
   "execution_count": null,
   "metadata": {},
   "outputs": [],
   "source": [
    "l2 = []\n",
    "for user in seen_list:\n",
    "    if user in subscriptions_count_dict.keys():\n",
    "        l2.append(subscriptions_count_dict[user])\n",
    "    else:\n",
    "        l2.append(None)\n",
    "        \n",
    "pd_vlakhov['subscriptions_count'] = l2"
   ]
  },
  {
   "cell_type": "code",
   "execution_count": null,
   "metadata": {},
   "outputs": [],
   "source": [
    "l3 = []\n",
    "for user in seen_list:\n",
    "    if user in post_dict.keys():\n",
    "        l3.append(post_dict[user])\n",
    "    else:\n",
    "        l3.append(None)\n",
    "        \n",
    "pd_vlakhov['posts'] = l3"
   ]
  },
  {
   "cell_type": "code",
   "execution_count": null,
   "metadata": {},
   "outputs": [],
   "source": [
    "l4 = []\n",
    "for user in seen_list:\n",
    "    if user in post_count_dict.keys():\n",
    "        l4.append(post_count_dict[user])\n",
    "    else:\n",
    "        l4.append(None)\n",
    "        \n",
    "pd_vlakhov['posts_count'] = l4"
   ]
  },
  {
   "cell_type": "code",
   "execution_count": null,
   "metadata": {},
   "outputs": [],
   "source": [
    "l5 = []\n",
    "l6 = []\n",
    "l7 = []\n",
    "l8 = []\n",
    "l9 = []\n",
    "for user in seen_list:\n",
    "    if user in user_information.keys():\n",
    "        if user_information[user][0] == None:\n",
    "            l5.append(None)\n",
    "        else:\n",
    "            l5.append(user_information[user][0]['title'])\n",
    "\n",
    "        if user_information[user][1] == None:\n",
    "            l6.append(None)\n",
    "        else:\n",
    "            l6.append(user_information[user][1]['title'])\n",
    "        \n",
    "        l7.append(user_information[user][2])\n",
    "        l8.append(user_information[user][3])\n",
    "        l9.append(user_information[user][4])\n",
    "                \n",
    "              \n",
    "        \n",
    "pd_vlakhov['city'] = l5\n",
    "pd_vlakhov['country'] = l6\n",
    "pd_vlakhov['has_photo'] = l7\n",
    "pd_vlakhov['has_mobile'] = l8\n",
    "pd_vlakhov['city'] = l9"
   ]
  },
  {
   "cell_type": "code",
   "execution_count": null,
   "metadata": {},
   "outputs": [],
   "source": [
    "pd_vlakhov_new = pd_vlakhov.copy()\n",
    "for ind, row in pd_vlakhov_new.iterrows():\n",
    "    if row['subscriptions_count'] == None:\n",
    "        pd_vlakhov_new = pd_vlakhov_new.drop(pd_vlakhov_new.index[ind], inplace=True)"
   ]
  },
  {
   "cell_type": "code",
   "execution_count": null,
   "metadata": {},
   "outputs": [],
   "source": [
    "pd_vlakhov_new.to_csv('pd_vlakhov.csv')"
   ]
  },
  {
   "cell_type": "code",
   "execution_count": 22,
   "metadata": {},
   "outputs": [],
   "source": [
    "data = requests.get(\n",
    "        'https://api.vk.com/method/users.getFollowers', \n",
    "        params={\n",
    "            \"user_id\": 656481023,\n",
    "            \"v\":\"5.92\",\n",
    "            \"extended\": 0,\n",
    "            \"count\": 600,\n",
    "            \"access_token\": ''\n",
    "        }\n",
    "        ).json()"
   ]
  },
  {
   "cell_type": "code",
   "execution_count": 26,
   "metadata": {},
   "outputs": [],
   "source": [
    "data_2 = requests.get(\n",
    "            'https://api.vk.com/method/users.getSubscriptions', \n",
    "            params={\n",
    "                \"user_id\": 419656647,\n",
    "                \"v\":\"5.92\",\n",
    "                \"access_token\": ''\n",
    "            }\n",
    "            ).json()"
   ]
  },
  {
   "cell_type": "code",
   "execution_count": 28,
   "metadata": {},
   "outputs": [],
   "source": [
    "data_3 = requests.get(\n",
    "        'https://api.vk.com/method/wall.get', \n",
    "        params={\n",
    "            \"owner_id\": 656481023,\n",
    "            \"v\":\"5.92\",\n",
    "            \"access_token\": ''\n",
    "        }\n",
    "        ).json()"
   ]
  },
  {
   "cell_type": "code",
   "execution_count": 57,
   "metadata": {},
   "outputs": [],
   "source": [
    "data_4 = requests.get(\n",
    "    'https://api.vk.com/method/users.get', \n",
    "    params={\n",
    "        \"user_ids\": l1,\n",
    "        \"v\":\"5.92\",\n",
    "        \"fields\": \"city\", \n",
    "        \"fields\": \"country\",\n",
    "        \"fields\": l2, \n",
    "        \"access_token\": ''\n",
    "    }\n",
    "    ).json()"
   ]
  }
 ],
 "metadata": {
  "kernelspec": {
   "display_name": "Python 3",
   "language": "python",
   "name": "python3"
  },
  "language_info": {
   "codemirror_mode": {
    "name": "ipython",
    "version": 3
   },
   "file_extension": ".py",
   "mimetype": "text/x-python",
   "name": "python",
   "nbconvert_exporter": "python",
   "pygments_lexer": "ipython3",
   "version": "3.8.3"
  }
 },
 "nbformat": 4,
 "nbformat_minor": 4
}
