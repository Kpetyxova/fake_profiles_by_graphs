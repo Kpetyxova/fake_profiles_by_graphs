{
 "cells": [
  {
   "cell_type": "markdown",
   "metadata": {},
   "source": [
    "# Объединяем датасеты реального человека и бота"
   ]
  },
  {
   "cell_type": "code",
   "execution_count": 113,
   "metadata": {},
   "outputs": [],
   "source": [
    "import pandas as pd\n",
    "import ast\n",
    "from tqdm.notebook import tqdm"
   ]
  },
  {
   "cell_type": "code",
   "execution_count": 114,
   "metadata": {},
   "outputs": [],
   "source": [
    "import tensorflow as tf\n",
    "import tensorflow_text\n",
    "import tensorflow_hub as hub\n",
    "import numpy as np"
   ]
  },
  {
   "cell_type": "code",
   "execution_count": 2,
   "metadata": {},
   "outputs": [],
   "source": [
    "vlakhov_df = pd.read_csv('/Users/kseniapetuhova/Desktop/pd_vlakhov_2.csv')"
   ]
  },
  {
   "cell_type": "code",
   "execution_count": 4,
   "metadata": {},
   "outputs": [],
   "source": [
    "lava_df = pd.read_csv('/Users/kseniapetuhova/Desktop/pd_lava.csv')"
   ]
  },
  {
   "cell_type": "code",
   "execution_count": 6,
   "metadata": {},
   "outputs": [],
   "source": [
    "del lava_df['Unnamed: 0']"
   ]
  },
  {
   "cell_type": "code",
   "execution_count": 7,
   "metadata": {},
   "outputs": [],
   "source": [
    "del lava_df['Unnamed: 0.1']"
   ]
  },
  {
   "cell_type": "code",
   "execution_count": 10,
   "metadata": {},
   "outputs": [],
   "source": [
    "del vlakhov_df['Unnamed: 0']"
   ]
  },
  {
   "cell_type": "code",
   "execution_count": 12,
   "metadata": {},
   "outputs": [],
   "source": [
    "vlakhov_shalava = pd.concat([vlakhov_df, lava_df], ignore_index=True)"
   ]
  },
  {
   "cell_type": "code",
   "execution_count": 14,
   "metadata": {},
   "outputs": [],
   "source": [
    "posts = list(vlakhov_shalava.posts)"
   ]
  },
  {
   "cell_type": "code",
   "execution_count": 35,
   "metadata": {},
   "outputs": [],
   "source": [
    "import numpy as np"
   ]
  },
  {
   "cell_type": "code",
   "execution_count": null,
   "metadata": {},
   "outputs": [],
   "source": [
    "posts_new = []\n",
    "for post in tqdm(posts):\n",
    "    if post != None and type(post) != float and post != [] and post != '[]':\n",
    "        post = post.replace('\\/', '')\n",
    "        p = ast.literal_eval(post[1:-1])\n",
    "        posts_new.append(p)\n",
    "    else:\n",
    "        posts_new.append(None)"
   ]
  },
  {
   "cell_type": "code",
   "execution_count": 79,
   "metadata": {},
   "outputs": [
    {
     "data": {
      "application/vnd.jupyter.widget-view+json": {
       "model_id": "73158ef848754cc2a856d572c01e5ce4",
       "version_major": 2,
       "version_minor": 0
      },
      "text/plain": [
       "HBox(children=(FloatProgress(value=0.0, max=995.0), HTML(value='')))"
      ]
     },
     "metadata": {},
     "output_type": "display_data"
    },
    {
     "name": "stdout",
     "output_type": "stream",
     "text": [
      "\n"
     ]
    }
   ],
   "source": [
    "texts = []\n",
    "all_reposts = []\n",
    "comments =[]\n",
    "likes = []\n",
    "reposts_count = []\n",
    "for user in tqdm(posts_new):\n",
    "    if user != None:\n",
    "        if type(user) is tuple:\n",
    "            texts_per_user = []\n",
    "            reposts = []\n",
    "            comm = []\n",
    "            lik = []\n",
    "            rep_c = []\n",
    "            for post in user:\n",
    "                text = post['text']\n",
    "                texts_per_user.append(text)\n",
    "                from_id = post['from_id']\n",
    "                owner_id = post['owner_id']\n",
    "                if from_id == owner_id:\n",
    "                    reposts.append(0)\n",
    "                else:\n",
    "                    reposts.append(1)\n",
    "\n",
    "                comm.append(post['comments']['count'])\n",
    "                lik.append(post['likes']['count'])\n",
    "                rep_c.append(post['reposts']['count'])\n",
    "            texts.append(texts_per_user)\n",
    "            all_reposts.append(reposts)\n",
    "            comments.append(comm)\n",
    "            likes.append(lik)\n",
    "            reposts_count.append(rep_c)\n",
    "        \n",
    "        else:\n",
    "            text = user['text']\n",
    "            texts.append(text)\n",
    "            from_id = user['from_id']\n",
    "            owner_id = user['owner_id']\n",
    "            if from_id == owner_id:\n",
    "                all_reposts.append(0)\n",
    "            else:\n",
    "                all_reposts.append(1)\n",
    "\n",
    "            comments.append(user['comments']['count'])\n",
    "            likes.append(user['likes']['count'])\n",
    "            reposts_count.append(user['reposts']['count'])\n",
    "\n",
    "    else:\n",
    "        texts.append(None)\n",
    "        all_reposts.append(None)\n",
    "        comments.append(None)\n",
    "        likes.append(None)\n",
    "        reposts_count.append(None)"
   ]
  },
  {
   "cell_type": "code",
   "execution_count": 83,
   "metadata": {},
   "outputs": [],
   "source": [
    "vlakhov_shalava['texts'] = texts\n",
    "vlakhov_shalava['repost'] = all_reposts\n",
    "vlakhov_shalava['comments'] = comments\n",
    "vlakhov_shalava['likes'] = likes\n",
    "vlakhov_shalava['reposts_count'] = reposts_count"
   ]
  },
  {
   "cell_type": "code",
   "execution_count": 97,
   "metadata": {},
   "outputs": [],
   "source": [
    "import tqdm.notebook as tqdm"
   ]
  },
  {
   "cell_type": "code",
   "execution_count": 86,
   "metadata": {},
   "outputs": [
    {
     "name": "stdout",
     "output_type": "stream",
     "text": [
      "module https://tfhub.dev/google/universal-sentence-encoder-multilingual/3 loaded\n"
     ]
    }
   ],
   "source": [
    "module_url = \"https://tfhub.dev/google/universal-sentence-encoder-multilingual/3\"\n",
    "use_model = hub.load(module_url)\n",
    "print(\"module %s loaded\" % module_url)"
   ]
  },
  {
   "cell_type": "code",
   "execution_count": 100,
   "metadata": {},
   "outputs": [],
   "source": [
    "def use_get_embedding(text, model):\n",
    "    return model([text]).numpy()[0]\n",
    "\n",
    "def use_records_to_embeds(list_text, model):\n",
    "    embeddings = np.zeros((len(list_text), 512))\n",
    "    for i in tqdm(range(len(list_text))):\n",
    "        embeddings[i] = use_get_embedding(list_text[i], model)\n",
    "    return embeddings"
   ]
  },
  {
   "cell_type": "code",
   "execution_count": 101,
   "metadata": {},
   "outputs": [
    {
     "data": {
      "application/vnd.jupyter.widget-view+json": {
       "model_id": "92246615220549cbb0c76202c397cfb9",
       "version_major": 2,
       "version_minor": 0
      },
      "text/plain": [
       "HBox(children=(FloatProgress(value=0.0, max=995.0), HTML(value='')))"
      ]
     },
     "metadata": {},
     "output_type": "display_data"
    },
    {
     "name": "stdout",
     "output_type": "stream",
     "text": [
      "\n"
     ]
    }
   ],
   "source": [
    "texts_to_embed = []\n",
    "for user in tqdm(texts):\n",
    "    if user != None:\n",
    "        text_new = ' '.join(user)\n",
    "        text_new = text_new.replace('\\n', ' ')\n",
    "        texts_to_embed.append(text_new)\n",
    "        \n",
    "    else:\n",
    "        texts_to_embed.append('')"
   ]
  },
  {
   "cell_type": "code",
   "execution_count": 103,
   "metadata": {},
   "outputs": [
    {
     "data": {
      "application/vnd.jupyter.widget-view+json": {
       "model_id": "8c3bd4cce32c479daf6ed5bfcc56aa9f",
       "version_major": 2,
       "version_minor": 0
      },
      "text/plain": [
       "HBox(children=(FloatProgress(value=0.0, max=995.0), HTML(value='')))"
      ]
     },
     "metadata": {},
     "output_type": "display_data"
    },
    {
     "name": "stdout",
     "output_type": "stream",
     "text": [
      "\n"
     ]
    }
   ],
   "source": [
    "use_embeddings_targets = use_records_to_embeds(texts_to_embed, use_model)"
   ]
  },
  {
   "cell_type": "code",
   "execution_count": 104,
   "metadata": {},
   "outputs": [],
   "source": [
    "list_use_embeddings_targets = []\n",
    "for embed in use_embeddings_targets:\n",
    "    new_embed = embed.tolist()\n",
    "    list_use_embeddings_targets.append(new_embed)"
   ]
  },
  {
   "cell_type": "code",
   "execution_count": 105,
   "metadata": {},
   "outputs": [],
   "source": [
    "vlakhov_shalava['embeddings_texts'] = list_use_embeddings_targets"
   ]
  },
  {
   "cell_type": "code",
   "execution_count": 116,
   "metadata": {},
   "outputs": [],
   "source": [
    "vlakhov_shalava = pd.read_csv('vlakhov_shalava.csv')"
   ]
  },
  {
   "cell_type": "code",
   "execution_count": 132,
   "metadata": {},
   "outputs": [],
   "source": [
    "comments = list(vlakhov_shalava.comments)\n"
   ]
  },
  {
   "cell_type": "code",
   "execution_count": 134,
   "metadata": {},
   "outputs": [],
   "source": [
    "comments_new = []\n",
    "for comment in comments:\n",
    "    if type(comment) == str:\n",
    "        new = ast.literal_eval(comment)\n",
    "        comments_new.append(new)\n",
    "    else:\n",
    "        comments_new.append(None)"
   ]
  },
  {
   "cell_type": "code",
   "execution_count": 138,
   "metadata": {},
   "outputs": [],
   "source": [
    "from statistics import mean"
   ]
  },
  {
   "cell_type": "code",
   "execution_count": 143,
   "metadata": {},
   "outputs": [
    {
     "data": {
      "application/vnd.jupyter.widget-view+json": {
       "model_id": "07bc9da408524f5f8b53191eacb75b95",
       "version_major": 2,
       "version_minor": 0
      },
      "text/plain": [
       "HBox(children=(FloatProgress(value=0.0, max=995.0), HTML(value='')))"
      ]
     },
     "metadata": {},
     "output_type": "display_data"
    },
    {
     "name": "stdout",
     "output_type": "stream",
     "text": [
      "\n"
     ]
    }
   ],
   "source": [
    "mean_comments = []\n",
    "for comm in tqdm(comments_new):\n",
    "    if comm != None and type(comm) != int:\n",
    "        mean_com = mean(comm)\n",
    "        mean_comments.append(mean_com)\n",
    "    elif type(comm) == int:\n",
    "        mean_comments.append(comm)\n",
    "    else:\n",
    "        mean_comments.append(None)"
   ]
  },
  {
   "cell_type": "code",
   "execution_count": 144,
   "metadata": {},
   "outputs": [],
   "source": [
    "vlakhov_shalava['comments_mean'] = mean_comments"
   ]
  },
  {
   "cell_type": "code",
   "execution_count": 152,
   "metadata": {},
   "outputs": [],
   "source": [
    "likes = list(vlakhov_shalava.reposts_count)"
   ]
  },
  {
   "cell_type": "code",
   "execution_count": 153,
   "metadata": {},
   "outputs": [],
   "source": [
    "likes_new = []\n",
    "for comment in likes:\n",
    "    if type(comment) == str:\n",
    "        new = ast.literal_eval(comment)\n",
    "        likes_new.append(new)\n",
    "    else:\n",
    "        likes_new.append(None)"
   ]
  },
  {
   "cell_type": "code",
   "execution_count": 154,
   "metadata": {},
   "outputs": [
    {
     "data": {
      "application/vnd.jupyter.widget-view+json": {
       "model_id": "80757b5a3ff548e8a8d0cbc7527d6fd8",
       "version_major": 2,
       "version_minor": 0
      },
      "text/plain": [
       "HBox(children=(FloatProgress(value=0.0, max=995.0), HTML(value='')))"
      ]
     },
     "metadata": {},
     "output_type": "display_data"
    },
    {
     "name": "stdout",
     "output_type": "stream",
     "text": [
      "\n"
     ]
    }
   ],
   "source": [
    "mean_likes = []\n",
    "for comm in tqdm(likes_new):\n",
    "    if comm != None and type(comm) != int:\n",
    "        mean_com = mean(comm)\n",
    "        mean_likes.append(mean_com)\n",
    "    elif type(comm) == int:\n",
    "        mean_likes.append(comm)\n",
    "    else:\n",
    "        mean_likes.append(None)"
   ]
  },
  {
   "cell_type": "code",
   "execution_count": 155,
   "metadata": {},
   "outputs": [],
   "source": [
    "vlakhov_shalava['reposts_mean'] = mean_likes"
   ]
  },
  {
   "cell_type": "code",
   "execution_count": 157,
   "metadata": {},
   "outputs": [],
   "source": [
    "list_use_embeddings = list(vlakhov_shalava.embeddings_texts)"
   ]
  },
  {
   "cell_type": "code",
   "execution_count": 158,
   "metadata": {},
   "outputs": [],
   "source": [
    "list_use_embeddings_targets = []\n",
    "for use in list_use_embeddings:\n",
    "    new = ast.literal_eval(use)\n",
    "    list_use_embeddings_targets.append(new)"
   ]
  },
  {
   "cell_type": "code",
   "execution_count": 159,
   "metadata": {},
   "outputs": [],
   "source": [
    "columns_names2 = [i for i in range(0, 512)]\n",
    "col_1024_df = pd.DataFrame(list_use_embeddings_targets, columns=columns_names2)\n",
    "new_df = pd.concat([vlakhov_shalava, col_1024_df], axis=1)"
   ]
  },
  {
   "cell_type": "code",
   "execution_count": 161,
   "metadata": {},
   "outputs": [],
   "source": [
    "new_df.to_csv('vlakhov_shalava_features.csv')"
   ]
  },
  {
   "cell_type": "code",
   "execution_count": null,
   "metadata": {},
   "outputs": [],
   "source": []
  }
 ],
 "metadata": {
  "kernelspec": {
   "display_name": "Python 3",
   "language": "python",
   "name": "python3"
  },
  "language_info": {
   "codemirror_mode": {
    "name": "ipython",
    "version": 3
   },
   "file_extension": ".py",
   "mimetype": "text/x-python",
   "name": "python",
   "nbconvert_exporter": "python",
   "pygments_lexer": "ipython3",
   "version": "3.8.3"
  }
 },
 "nbformat": 4,
 "nbformat_minor": 4
}
